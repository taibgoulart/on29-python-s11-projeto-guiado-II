{
  "nbformat": 4,
  "nbformat_minor": 0,
  "metadata": {
    "colab": {
      "provenance": [],
      "authorship_tag": "ABX9TyNLqVVCwBgs9km5obf2VZGH",
      "include_colab_link": true
    },
    "kernelspec": {
      "name": "python3",
      "display_name": "Python 3"
    },
    "language_info": {
      "name": "python"
    }
  },
  "cells": [
    {
      "cell_type": "markdown",
      "metadata": {
        "id": "view-in-github",
        "colab_type": "text"
      },
      "source": [
        "<a href=\"https://colab.research.google.com/github/taibgoulart/on29-python-s11-projeto-guiado-II/blob/main/exercicios/para-casa/1_criando_banco.ipynb\" target=\"_parent\"><img src=\"https://colab.research.google.com/assets/colab-badge.svg\" alt=\"Open In Colab\"/></a>"
      ]
    },
    {
      "cell_type": "code",
      "execution_count": 1,
      "metadata": {
        "id": "9PCySIsnGCOV"
      },
      "outputs": [],
      "source": [
        "import csv\n",
        "import sqlite3"
      ]
    },
    {
      "cell_type": "code",
      "source": [
        "csv_file = 'MICRODADOS_ENEM_2018.csv'\n",
        "db_file = 'banco_de_dados_enem_2018.db'"
      ],
      "metadata": {
        "id": "EVDj8iK_GmVo"
      },
      "execution_count": 2,
      "outputs": []
    },
    {
      "cell_type": "code",
      "source": [
        "with open(csv_file, newline='', encoding='ISO-8859-1') as file:\n",
        "    reader = csv.reader(file)\n",
        "    header = next(reader)\n",
        "    data = [row for row in reader if len(row) == 19]"
      ],
      "metadata": {
        "id": "omdkwGQwGo7B"
      },
      "execution_count": 3,
      "outputs": []
    },
    {
      "cell_type": "code",
      "source": [
        "with sqlite3.connect(db_file) as connection:\n",
        "    cursor = connection.cursor()"
      ],
      "metadata": {
        "id": "3aFR73O1GrKC"
      },
      "execution_count": 4,
      "outputs": []
    },
    {
      "cell_type": "code",
      "source": [
        "cursor.execute('''CREATE TABLE IF NOT EXISTS dados_enem (\n",
        "        NU_INSCRICAO INT,\n",
        "        NU_ANO INT,\n",
        "        TP_FAIXA_ETARIA INT,\n",
        "        TP_SEXO VARCHAR,\n",
        "        TP_ESTADO_CIVIL VARCHAR,\n",
        "        TP_COR_RACA INT,\n",
        "        TP_NACIONALIDADE INT,\n",
        "        TP_ST_CONCLUSAO INT,\n",
        "        TP_ANO_CONCLUIU INT,\n",
        "        TP_ESCOLA INT,\n",
        "        TP_ENSINO INT,\n",
        "        IN_TREINEIRO INT,\n",
        "        CO_MUNICIPIO_ESC INT,\n",
        "        NO_MUNICIPIO_ESC VARCHAR,\n",
        "        CO_UF_ESC INT,\n",
        "        SG_UF_ESC VARCHAR,\n",
        "        TP_DEPENDENCIA_ADM_ESC INT,\n",
        "        TP_LOCALIZACAO_ESC INT,\n",
        "        TP_SIT_FUNC_ESC INT\n",
        "    )''')"
      ],
      "metadata": {
        "colab": {
          "base_uri": "https://localhost:8080/"
        },
        "id": "6pZKyRBlGuEU",
        "outputId": "855a4917-73a0-49a7-c5e4-7b6c55f7e8a5"
      },
      "execution_count": 5,
      "outputs": [
        {
          "output_type": "execute_result",
          "data": {
            "text/plain": [
              "<sqlite3.Cursor at 0x7c4cdb7cc9c0>"
            ]
          },
          "metadata": {},
          "execution_count": 5
        }
      ]
    },
    {
      "cell_type": "code",
      "source": [
        "conteudo_tabela = '''\n",
        "        INSERT INTO dados_enem (\n",
        "            NU_INSCRICAO, NU_ANO, TP_FAIXA_ETARIA, TP_SEXO, TP_ESTADO_CIVIL, TP_COR_RACA,\n",
        "            TP_NACIONALIDADE, TP_ST_CONCLUSAO, TP_ANO_CONCLUIU, TP_ESCOLA, TP_ENSINO,\n",
        "            IN_TREINEIRO, CO_MUNICIPIO_ESC, NO_MUNICIPIO_ESC, CO_UF_ESC, SG_UF_ESC,\n",
        "            TP_DEPENDENCIA_ADM_ESC, TP_LOCALIZACAO_ESC, TP_SIT_FUNC_ESC\n",
        "        ) VALUES (?, ?, ?, ?, ?, ?, ?, ?, ?, ?, ?, ?, ?, ?, ?, ?, ?, ?, ?)\n",
        "    '''"
      ],
      "metadata": {
        "id": "g_rmDZsTGxKS"
      },
      "execution_count": 6,
      "outputs": []
    },
    {
      "cell_type": "code",
      "source": [
        "cursor.executemany(conteudo_tabela, data)"
      ],
      "metadata": {
        "colab": {
          "base_uri": "https://localhost:8080/"
        },
        "id": "ETRMjoDbG0kW",
        "outputId": "2f8fac2f-8b54-456d-9be8-e0cd915da135"
      },
      "execution_count": 7,
      "outputs": [
        {
          "output_type": "execute_result",
          "data": {
            "text/plain": [
              "<sqlite3.Cursor at 0x7c4cdb7cc9c0>"
            ]
          },
          "metadata": {},
          "execution_count": 7
        }
      ]
    },
    {
      "cell_type": "code",
      "source": [
        "selecionar_tudo = \"SELECT * FROM dados_enem\""
      ],
      "metadata": {
        "id": "etPV4VENG58E"
      },
      "execution_count": 8,
      "outputs": []
    },
    {
      "cell_type": "code",
      "source": [
        "entradas = cursor.execute(selecionar_tudo).fetchall()"
      ],
      "metadata": {
        "id": "x_vaiJCdG8DA"
      },
      "execution_count": 9,
      "outputs": []
    },
    {
      "cell_type": "code",
      "source": [
        "for entrada in entradas:\n",
        "    print(entrada)"
      ],
      "metadata": {
        "id": "24j0qfj1G93J"
      },
      "execution_count": 10,
      "outputs": []
    }
  ]
}